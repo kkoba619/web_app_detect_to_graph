{
  "nbformat": 4,
  "nbformat_minor": 0,
  "metadata": {
    "accelerator": "GPU",
    "colab": {
      "name": "Detect_ver2.ipynb",
      "provenance": [],
      "collapsed_sections": []
    },
    "kernelspec": {
      "display_name": "Python 3",
      "language": "python",
      "name": "python3"
    },
    "language_info": {
      "codemirror_mode": {
        "name": "ipython",
        "version": 3
      },
      "file_extension": ".py",
      "mimetype": "text/x-python",
      "name": "python",
      "nbconvert_exporter": "python",
      "pygments_lexer": "ipython3",
      "version": "3.7.9"
    }
  },
  "cells": [
    {
      "cell_type": "markdown",
      "metadata": {
        "id": "zqJbCy_ryj66"
      },
      "source": [
        "# ObjectDetection"
      ]
    },
    {
      "cell_type": "code",
      "metadata": {
        "colab": {
          "base_uri": "https://localhost:8080/"
        },
        "id": "Oa64iRtJykaf",
        "outputId": "fc06c5b2-3584-4017-99d2-a05b97d74917"
      },
      "source": [
        "!nvidia-smi"
      ],
      "execution_count": null,
      "outputs": [
        {
          "output_type": "stream",
          "name": "stdout",
          "text": [
            "Wed Jan  5 00:17:38 2022       \n",
            "+-----------------------------------------------------------------------------+\n",
            "| NVIDIA-SMI 495.44       Driver Version: 460.32.03    CUDA Version: 11.2     |\n",
            "|-------------------------------+----------------------+----------------------+\n",
            "| GPU  Name        Persistence-M| Bus-Id        Disp.A | Volatile Uncorr. ECC |\n",
            "| Fan  Temp  Perf  Pwr:Usage/Cap|         Memory-Usage | GPU-Util  Compute M. |\n",
            "|                               |                      |               MIG M. |\n",
            "|===============================+======================+======================|\n",
            "|   0  Tesla K80           Off  | 00000000:00:04.0 Off |                    0 |\n",
            "| N/A   38C    P8    29W / 149W |      0MiB / 11441MiB |      0%      Default |\n",
            "|                               |                      |                  N/A |\n",
            "+-------------------------------+----------------------+----------------------+\n",
            "                                                                               \n",
            "+-----------------------------------------------------------------------------+\n",
            "| Processes:                                                                  |\n",
            "|  GPU   GI   CI        PID   Type   Process name                  GPU Memory |\n",
            "|        ID   ID                                                   Usage      |\n",
            "|=============================================================================|\n",
            "|  No running processes found                                                 |\n",
            "+-----------------------------------------------------------------------------+\n"
          ]
        }
      ]
    },
    {
      "cell_type": "code",
      "metadata": {
        "colab": {
          "base_uri": "https://localhost:8080/"
        },
        "id": "cpxOx7689LUL",
        "outputId": "aa19b013-9ccd-422b-aca3-9134d803719f"
      },
      "source": [
        "!pip install flask-ngrok flask==0.12.2"
      ],
      "execution_count": null,
      "outputs": [
        {
          "output_type": "stream",
          "name": "stdout",
          "text": [
            "Collecting flask-ngrok\n",
            "  Downloading flask_ngrok-0.0.25-py3-none-any.whl (3.1 kB)\n",
            "Collecting flask==0.12.2\n",
            "  Downloading Flask-0.12.2-py2.py3-none-any.whl (83 kB)\n",
            "\u001b[K     |████████████████████████████████| 83 kB 1.2 MB/s \n",
            "\u001b[?25hRequirement already satisfied: Werkzeug>=0.7 in /usr/local/lib/python3.7/dist-packages (from flask==0.12.2) (1.0.1)\n",
            "Requirement already satisfied: Jinja2>=2.4 in /usr/local/lib/python3.7/dist-packages (from flask==0.12.2) (2.11.3)\n",
            "Requirement already satisfied: click>=2.0 in /usr/local/lib/python3.7/dist-packages (from flask==0.12.2) (7.1.2)\n",
            "Requirement already satisfied: itsdangerous>=0.21 in /usr/local/lib/python3.7/dist-packages (from flask==0.12.2) (1.1.0)\n",
            "Requirement already satisfied: MarkupSafe>=0.23 in /usr/local/lib/python3.7/dist-packages (from Jinja2>=2.4->flask==0.12.2) (2.0.1)\n",
            "Requirement already satisfied: requests in /usr/local/lib/python3.7/dist-packages (from flask-ngrok) (2.23.0)\n",
            "Requirement already satisfied: idna<3,>=2.5 in /usr/local/lib/python3.7/dist-packages (from requests->flask-ngrok) (2.10)\n",
            "Requirement already satisfied: urllib3!=1.25.0,!=1.25.1,<1.26,>=1.21.1 in /usr/local/lib/python3.7/dist-packages (from requests->flask-ngrok) (1.24.3)\n",
            "Requirement already satisfied: certifi>=2017.4.17 in /usr/local/lib/python3.7/dist-packages (from requests->flask-ngrok) (2021.10.8)\n",
            "Requirement already satisfied: chardet<4,>=3.0.2 in /usr/local/lib/python3.7/dist-packages (from requests->flask-ngrok) (3.0.4)\n",
            "Installing collected packages: flask, flask-ngrok\n",
            "  Attempting uninstall: flask\n",
            "    Found existing installation: Flask 1.1.4\n",
            "    Uninstalling Flask-1.1.4:\n",
            "      Successfully uninstalled Flask-1.1.4\n",
            "Successfully installed flask-0.12.2 flask-ngrok-0.0.25\n"
          ]
        }
      ]
    },
    {
      "cell_type": "code",
      "metadata": {
        "colab": {
          "base_uri": "https://localhost:8080/"
        },
        "id": "B3bzrHM4siU5",
        "outputId": "b41521e2-d98e-4f52-bcea-07c033f8744f"
      },
      "source": [
        "from google.colab import drive\n",
        "drive.mount('/content/drive')"
      ],
      "execution_count": null,
      "outputs": [
        {
          "output_type": "stream",
          "name": "stdout",
          "text": [
            "Mounted at /content/drive\n"
          ]
        }
      ]
    },
    {
      "cell_type": "code",
      "metadata": {
        "id": "X0Qp0Cn1yjvg"
      },
      "source": [
        "# パスを通す\n",
        "# https://qiita.com/Kunikata/items/45e731753e97bda28aab\n",
        "import sys\n",
        "sys.path.append('/content/drive/MyDrive/Colab Notebooks/Data/211030_object_detection_yolov5_ver2')"
      ],
      "execution_count": null,
      "outputs": []
    },
    {
      "cell_type": "code",
      "metadata": {
        "colab": {
          "base_uri": "https://localhost:8080/"
        },
        "id": "R0D9ELE82biR",
        "outputId": "9a261ed3-8160-48d3-88b4-b8fc24f07440"
      },
      "source": [
        "# カレントディレクトリーを移動 --> 必須\n",
        "%cd /content/drive/MyDrive/Colab Notebooks/Data/211030_object_detection_yolov5_ver2\n",
        "%ls -lah"
      ],
      "execution_count": null,
      "outputs": [
        {
          "output_type": "stream",
          "name": "stdout",
          "text": [
            "/content/drive/MyDrive/Colab Notebooks/Data/211030_object_detection_yolov5_ver2\n",
            "total 56M\n",
            "-rw------- 1 root root 7.9K Oct 24 23:24 app.py\n",
            "-rw------- 1 root root   44 Oct 20 11:33 Aptfile\n",
            "-rw------- 1 root root  15K Jan  5 00:17 Detect_ver2.ipynb\n",
            "drwx------ 2 root root 4.0K Oct 30 01:43 \u001b[0m\u001b[01;34m.git\u001b[0m/\n",
            "drwx------ 2 root root 4.0K Oct 30 01:43 \u001b[01;34mgraph\u001b[0m/\n",
            "drwx------ 2 root root 4.0K Oct 30 01:43 \u001b[01;34mimages\u001b[0m/\n",
            "drwx------ 2 root root 4.0K Oct 30 01:43 \u001b[01;34m.ipynb_checkpoints\u001b[0m/\n",
            "-rw------- 1 root root  29M May  4  2021 ngrok\n",
            "-rw------- 1 root root  14M Dec 25 06:32 ngrok-stable-linux-amd64.zip\n",
            "-rw------- 1 root root   18 Oct 20 11:57 Procfile\n",
            "drwx------ 2 root root 4.0K Oct 30 01:43 \u001b[01;34m__pycache__\u001b[0m/\n",
            "-rw------- 1 root root  923 Oct 25 21:19 requirements.txt\n",
            "drwx------ 2 root root 4.0K Oct 30 01:43 \u001b[01;34mstatic\u001b[0m/\n",
            "drwx------ 2 root root 4.0K Oct 30 01:43 \u001b[01;34mtemplates\u001b[0m/\n",
            "drwx------ 2 root root 4.0K Oct 30 01:43 \u001b[01;34mupload\u001b[0m/\n",
            "drwx------ 2 root root 4.0K Oct 30 01:43 \u001b[01;34m.vscode\u001b[0m/\n",
            "-rw------- 1 root root  15M Dec 25 04:56 yolov5s.pt\n",
            "-rw------- 1 root root  21K Oct 30 02:51 【下書き】Detect_web_app2_3.ipynb\n"
          ]
        }
      ]
    },
    {
      "cell_type": "code",
      "metadata": {
        "id": "EOmGKzK6eghY",
        "colab": {
          "base_uri": "https://localhost:8080/"
        },
        "outputId": "ff64a69c-c9b4-48a1-e952-ed4fa6b0f01b"
      },
      "source": [
        "# 参考: https://www.python.ambitious-engineer.com/archives/1630\n",
        "# 参考: https://note.com/kamakiriphysics/n/n2aec5611af2a\n",
        "# 参考:  https://qiita.com/Gen6/items/2979b84797c702c858b1\n",
        "\n",
        "import os\n",
        "from datetime import datetime\n",
        "from flask import Flask, render_template, request, redirect, url_for, send_from_directory, g, flash\n",
        "import pandas as pd\n",
        "import matplotlib.pyplot as plt\n",
        "import seaborn as sns\n",
        "\n",
        "import glob\n",
        "import shutil\n",
        "import argparse\n",
        "import pathlib\n",
        "\n",
        "import numpy as np\n",
        "from numpy import random\n",
        "\n",
        "import pandas as pd\n",
        "import matplotlib.pyplot as plt\n",
        "import seaborn as sns\n",
        "\n",
        "import plotly\n",
        "import plotly.express as px\n",
        "import plotly.offline as offline \n",
        "\n",
        "from PIL import Image\n",
        "import cv2\n",
        "import torch\n",
        "model = torch.hub.load('ultralytics/yolov5', 'yolov5s', pretrained=True)\n",
        "import torchvision\n",
        "\n",
        "# https://stackoverflow.com/questions/68140388/an-error-cache-may-be-out-of-date-try-force-reload-true-comes-up-even-thou\n",
        "import torch.backends.cudnn as cudnn\n",
        "\n",
        "from pathlib import Path\n",
        "\n",
        "from flask_ngrok import run_with_ngrok # これが重要 googlecolabo用"
      ],
      "execution_count": null,
      "outputs": [
        {
          "output_type": "stream",
          "name": "stderr",
          "text": [
            "Downloading: \"https://github.com/ultralytics/yolov5/archive/master.zip\" to /root/.cache/torch/hub/master.zip\n"
          ]
        },
        {
          "output_type": "stream",
          "name": "stdout",
          "text": [
            "Downloading https://ultralytics.com/assets/Arial.ttf to /root/.config/Ultralytics/Arial.ttf...\n",
            "\u001b[31m\u001b[1mrequirements:\u001b[0m PyYAML>=5.3.1 not found and is required by YOLOv5, attempting auto-update...\n"
          ]
        },
        {
          "output_type": "stream",
          "name": "stderr",
          "text": [
            "YOLOv5 🚀 2022-1-5 torch 1.10.0+cu111 CUDA:0 (Tesla K80, 11441MiB)\n",
            "\n"
          ]
        },
        {
          "output_type": "stream",
          "name": "stdout",
          "text": [
            "Collecting PyYAML>=5.3.1\n",
            "  Downloading PyYAML-6.0-cp37-cp37m-manylinux_2_5_x86_64.manylinux1_x86_64.manylinux_2_12_x86_64.manylinux2010_x86_64.whl (596 kB)\n",
            "Installing collected packages: PyYAML\n",
            "  Attempting uninstall: PyYAML\n",
            "    Found existing installation: PyYAML 3.13\n",
            "    Uninstalling PyYAML-3.13:\n",
            "      Successfully uninstalled PyYAML-3.13\n",
            "Successfully installed PyYAML-6.0\n",
            "\n",
            "\u001b[31m\u001b[1mrequirements:\u001b[0m 1 package updated per /root/.cache/torch/hub/ultralytics_yolov5_master/requirements.txt\n",
            "\u001b[31m\u001b[1mrequirements:\u001b[0m ⚠️ \u001b[1mRestart runtime or rerun command for updates to take effect\u001b[0m\n",
            "\n"
          ]
        },
        {
          "output_type": "stream",
          "name": "stderr",
          "text": [
            "Fusing layers... \n",
            "Model Summary: 213 layers, 7225885 parameters, 0 gradients\n",
            "Adding AutoShape... \n"
          ]
        }
      ]
    },
    {
      "cell_type": "code",
      "metadata": {
        "colab": {
          "base_uri": "https://localhost:8080/"
        },
        "id": "FZTSBLyUjG-c",
        "outputId": "74bd8727-2bb7-44e5-ea21-536925a78fd6"
      },
      "source": [
        "!pip install thop"
      ],
      "execution_count": null,
      "outputs": [
        {
          "output_type": "stream",
          "name": "stdout",
          "text": [
            "Collecting thop\n",
            "  Downloading thop-0.0.31.post2005241907-py3-none-any.whl (8.7 kB)\n",
            "Requirement already satisfied: torch>=1.0.0 in /usr/local/lib/python3.7/dist-packages (from thop) (1.10.0+cu111)\n",
            "Requirement already satisfied: typing-extensions in /usr/local/lib/python3.7/dist-packages (from torch>=1.0.0->thop) (3.10.0.2)\n",
            "Installing collected packages: thop\n",
            "Successfully installed thop-0.0.31.post2005241907\n"
          ]
        }
      ]
    },
    {
      "cell_type": "code",
      "source": [
        "# https://towardsdatascience.com/quickly-share-ml-webapps-from-google-colab-using-ngrok-for-free-ae899ca2661a\n",
        "!pip install pyngrok\n",
        "!ngrok authtoken xxxxxxx #自分のトークンを入力してください"
      ],
      "metadata": {
        "id": "W-4zip1D9nBq"
      },
      "execution_count": null,
      "outputs": []
    },
    {
      "cell_type": "code",
      "metadata": {
        "id": "6c6HxVhfsMlA",
        "colab": {
          "base_uri": "https://localhost:8080/"
        },
        "outputId": "cf829f87-87a9-4943-cd57-2e50a93357ed"
      },
      "source": [
        "# graphファイル削除用\n",
        "def remove_glob(pathname, recursive=True):\n",
        "    for p in glob.glob(pathname, recursive=recursive):\n",
        "        if os.path.isfile(p):\n",
        "            os.remove(p)\n",
        "\n",
        "\n",
        "# mp4から画像を抽出\n",
        "def save_frame_sec(video_path, sec, result_path):\n",
        "    cap = cv2.VideoCapture(video_path)\n",
        "\n",
        "    if not cap.isOpened():\n",
        "        return\n",
        "\n",
        "    os.makedirs(os.path.dirname(result_path), exist_ok=True)\n",
        "\n",
        "    fps = cap.get(cv2.CAP_PROP_FPS)\n",
        "\n",
        "    cap.set(cv2.CAP_PROP_POS_FRAMES, round(fps * sec))\n",
        "\n",
        "    ret, frame = cap.read()\n",
        "\n",
        "    if ret:\n",
        "        cv2.imwrite(result_path, frame)\n",
        "\n",
        "\n",
        "# 物体検出\n",
        "def dtc_grph_label(img_ad,img_dtct,dtct_lbl,i):\n",
        "    # https://qiita.com/hkwsdgea_ttt2/items/879c91a4bb5f1a0bb513\n",
        "    img = [img_ad]\n",
        "    results = model(img)\n",
        "\n",
        "    # plotデータの整理\n",
        "    detect = results.pandas().xyxy[0]\n",
        "    detect['x'] = (detect.xmin + detect.xmax)/2\n",
        "    detect['y'] = (detect.ymin + detect.ymax)/2\n",
        "    detect['size'] =  np.sqrt((detect.xmax - detect.xmin)*(detect.ymax - detect.ymin))\n",
        "    detect['frame'] = i\n",
        "\n",
        "    #グラフ作成\n",
        "    fig = plt.figure(figsize=(8, 8))\n",
        "    # fig = plt.figure()\n",
        "\n",
        "    sns.scatterplot(data=detect, x='x', y='y', hue='name',size = detect['size']*100,alpha = 0.5,sizes=(100,500))\n",
        "    plt.xlim(0,np.array(img).shape[2])\n",
        "    plt.ylim(np.array(img).shape[1],0)\n",
        "\n",
        "    #画像の読み込み https://qiita.com/zaburo/items/5637b424c655b136527a\n",
        "    im = Image.open(img_ad)\n",
        "\n",
        "    #画像をarrayに変換\n",
        "    im_list = np.asarray(im)\n",
        "    #貼り付け\n",
        "    plt.imshow(im_list, alpha=1.0)\n",
        "    #表示\n",
        "    plt.axis(\"off\") #https://qiita.com/tsukada_cs/items/8d31a25cd7c860690270\n",
        "    plt.imshow(im, alpha=0.6)\n",
        "\n",
        "    if np.array(img).shape[2] > np.array(img).shape[1]:\n",
        "        plt.legend(bbox_to_anchor=(0, -0.1), loc='upper left', borderaxespad=0, fontsize=8)\n",
        "    else:\n",
        "        plt.legend(bbox_to_anchor=(1.05, 1), loc='upper left', borderaxespad=0, fontsize=8)\n",
        "\n",
        "    plt.savefig(img_dtct+'/'+img_ad.split('.')[-2].split('/')[-1]+'_detect.png')\n",
        "    detect.to_csv(dtct_lbl+'/'+img_ad.split('.')[-2].split('/')[-1]+'_label.csv')\n",
        "\n",
        "\n",
        "app = Flask(__name__)\n",
        "run_with_ngrok(app) # これが重要 googlecolabo用\n",
        "\n",
        "# ファイル容量を制限する\n",
        "# https://tanuhack.com/flask-client2server/\n",
        "# app.config['MAX_CONTENT_LENGTH'] = 5 * 1024 * 1024  #5MB herokuデプロイ用\n",
        "\n",
        "\n",
        "\n",
        "\n",
        "SAVE_DIR = \"graph\"\n",
        "if not os.path.isdir(SAVE_DIR):\n",
        "    os.mkdir(SAVE_DIR)\n",
        "\n",
        "\n",
        "@app.route('/graph/<path:filepath>')\n",
        "def send_js(filepath):\n",
        "    return send_from_directory(SAVE_DIR, filepath)\n",
        "\n",
        "\n",
        "@app.route(\"/\", methods=[\"GET\",\"POST\"])\n",
        "def upload_file():\n",
        "    if request.method == \"GET\":\n",
        "        return render_template(\"index.html\")\n",
        "\n",
        "    if request.method == \"POST\":\n",
        "\n",
        "        image = request.files['image']  \n",
        "        if image:\n",
        "\n",
        "            remove_glob('./upload/**')\n",
        "            app.logger.info('file_name={}'.format(image.filename))\n",
        "            app.logger.info('content_type={} content_length={}, mimetype={}, mimetype_params={}'.format(\n",
        "                image.content_type, image.content_length, image.mimetype, image.mimetype_params))\n",
        "            #imagefile_en = image.filename.encode('utf-8')\n",
        "            image.save(\"./upload/\"+image.filename)\n",
        "            \n",
        "            video_path = \"./upload/\"+image.filename\n",
        "            video_2_jpg_path = './images/frame'\n",
        "            img_dtct = './images/detect'\n",
        "            dtct_lbl = './images/labels'\n",
        "            \n",
        "            remove_glob(video_2_jpg_path+'/**')\n",
        "            remove_glob(img_dtct+'/**')\n",
        "\n",
        "            # ファイルの情報抽出\n",
        "            cap = cv2.VideoCapture(video_path)\n",
        "            video_frame_count = cap.get(cv2.CAP_PROP_FRAME_COUNT)\n",
        "            video_fps = cap.get(cv2.CAP_PROP_FPS) \n",
        "            video_len_sec = video_frame_count / video_fps\n",
        "            print('sec:',video_len_sec) \n",
        "            width = cap.get(cv2.CAP_PROP_FRAME_WIDTH)\n",
        "            print('width:',width)\n",
        "            height = cap.get(cv2.CAP_PROP_FRAME_HEIGHT)\n",
        "            print('height:',height)\n",
        "\n",
        "\n",
        "            # 処理開始前に不要データ削除\n",
        "            remove_glob(video_2_jpg_path+'/**')\n",
        "            remove_glob(img_dtct+'/**')\n",
        "            remove_glob(dtct_lbl+'/**')\n",
        "\n",
        "            # framem→jpg→png/csv\n",
        "            stp = 0.5 #stp秒ごとに一枚画像取得\n",
        "            nomax ='{0:04d}'.format(int(len(np.arange(0,video_len_sec//1+stp,stp)))-1)\n",
        "            for i,sec in enumerate(np.arange(0,video_len_sec//1+stp,stp)): #再生時間(秒)切り上げ(c//1+1で切り上げ)\n",
        "                no = '{0:04d}'.format(i)\n",
        "                save_frame_sec(video_path, sec, video_2_jpg_path+'/'+no+'.jpg')\n",
        "                dtc_grph_label(video_2_jpg_path+'/'+no+'.jpg',img_dtct,dtct_lbl,i)\n",
        "                print(no,'/',nomax)\n",
        "                remove_glob(video_2_jpg_path+'/**')\n",
        "                \n",
        "            # gifの元情報pngファイル確認\n",
        "            files = sorted(glob.glob(img_dtct+'/*.png'))\n",
        "            images = list(map(lambda file: Image.open(file), files))\n",
        "\n",
        "            # 古いgifファイル削除\n",
        "            remove_glob('./graph/**')\n",
        "\n",
        "            #gifファイル作成\n",
        "            filepath = \"./graph/\" + datetime.now().strftime(\"%Y%m%d%H%M%S_\") + \"out.gif\"\n",
        "            print(filepath)\n",
        "            images[0].save(filepath, save_all=True, append_images=images[1:], duration=400, loop=0)\n",
        "\n",
        "\n",
        "            # labelファイル抽出・統合\n",
        "            df = pd.DataFrame()\n",
        "\n",
        "            for file_path in pathlib.Path(dtct_lbl).glob('*.csv'):\n",
        "                f_path = pathlib.Path(file_path)\n",
        "                file_name = f_path.name\n",
        "                df_tmp = pd.read_csv(dtct_lbl+'/'+file_name)\n",
        "                df = pd.concat([df, df_tmp], axis=0)\n",
        "\n",
        "            # plotlyでグラフ作成\n",
        "            fig = px.scatter(df.sort_values(by = 'frame'), x=\"x\", y=\"y\",size = \"size\",size_max =30,color = 'name',animation_frame=\"frame\")\n",
        "            fig.update_xaxes(\n",
        "                range=[0,width],  # sets the range of xaxis\n",
        "            )\n",
        "            fig.update_yaxes(\n",
        "                range=[0,height],  # sets the range of xaxis\n",
        "                scaleanchor = \"x\",\n",
        "                scaleratio = 1\n",
        "            )\n",
        "            fig.update_yaxes(autorange=\"reversed\")\n",
        "            filepath_pltly = \"./graph/\" + datetime.now().strftime(\"%Y%m%d%H%M%S_\") + \"out.html\"\n",
        "            offline.plot(fig,filename=filepath_pltly,auto_open=False)\n",
        "\n",
        "            return render_template(\"index.html\", image = image ,filepath=filepath,filepath_pltly=filepath_pltly)\n",
        "\n",
        "        else: # エラー処理\n",
        "            return render_template(\"index.html\", err_message_1=\"ファイルを選択してください！\")\n",
        "    return render_template(\"index.html\")\n",
        "\n",
        "\n",
        "if __name__ == '__main__':\n",
        "  app.run() # googlecolabo用\n",
        "\n",
        "    #app.run(debug=True,  host='0.0.0.0', port=5000) # ポートの変更 heroku用\n",
        "    # port = int(os.environ.get(\"PORT\", 5000)) # heroku用\n",
        "    # app.run(debug=True, host=\"0.0.0.0\", port=port) # heroku用"
      ],
      "execution_count": null,
      "outputs": [
        {
          "metadata": {
            "tags": null
          },
          "name": "stderr",
          "output_type": "stream",
          "text": [
            " * Running on http://127.0.0.1:5000/ (Press CTRL+C to quit)\n"
          ]
        },
        {
          "metadata": {
            "tags": null
          },
          "name": "stdout",
          "output_type": "stream",
          "text": [
            " * Running on http://c08b-35-240-97-224.ngrok.io\n",
            " * Traffic stats available on http://127.0.0.1:4040\n"
          ]
        },
        {
          "metadata": {
            "tags": null
          },
          "name": "stderr",
          "output_type": "stream",
          "text": [
            "127.0.0.1 - - [05/Jan/2022 00:19:27] \"\u001b[37mGET / HTTP/1.1\u001b[0m\" 200 -\n",
            "127.0.0.1 - - [05/Jan/2022 00:19:37] \"\u001b[37mGET / HTTP/1.1\u001b[0m\" 200 -\n",
            "127.0.0.1 - - [05/Jan/2022 00:19:39] \"\u001b[33mGET /favicon.ico HTTP/1.1\u001b[0m\" 404 -\n"
          ]
        }
      ]
    },
    {
      "cell_type": "code",
      "metadata": {
        "id": "rChhIfkm-qzp"
      },
      "source": [
        ""
      ],
      "execution_count": null,
      "outputs": []
    }
  ]
}